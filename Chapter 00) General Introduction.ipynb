{
 "cells": [
  {
   "cell_type": "markdown",
   "metadata": {},
   "source": [
    "## <b>Deep Learning Basics - A Beginner's Journey</b>"
   ]
  },
  {
   "cell_type": "markdown",
   "metadata": {},
   "source": [
    "<h4> Welcome to <i>Deep Learning Basics - A Beginner's Journey</i>. In order to renew my Deep Learning knowledge, but to simultaneously expand my skills even further on the process and also showcase what I know about this magnificent field, I decided to develop this short course about Deep Learning. I will be covering some basic topics about Deep Learning and even dive into some slightly more demanding ones. </h4>"
   ]
  },
  {
   "cell_type": "markdown",
   "metadata": {},
   "source": [
    "#### More specifically the course will be split into the following 10 chapters:\n",
    "1) Introduction to Deep Learning\n",
    "2) Neural Networks Basics\n",
    "3) Foundations of Deep Learning Architectures\n",
    "4) Optimization and Regularization Techniques\n",
    "5) Deep Learning Frameworks\n",
    "6) Computer Vision with Deep Learning\n",
    "7) Natural Language Processing with Deep Learning\n",
    "8) Generative Models\n",
    "9) Deploying Deep Learning Models\n",
    "10) Ethical Considerations and Challenges"
   ]
  },
  {
   "cell_type": "markdown",
   "metadata": {},
   "source": [
    "<h4> <i>\"Artificial Intelligence is the new electricity.\" - Andrew Ng </i><br>\n",
    "Best wishes to you all, as you proceed through each chapter. </h4>"
   ]
  }
 ],
 "metadata": {
  "language_info": {
   "name": "python"
  }
 },
 "nbformat": 4,
 "nbformat_minor": 2
}
