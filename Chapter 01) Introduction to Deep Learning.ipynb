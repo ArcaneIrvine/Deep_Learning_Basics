{
 "cells": [
  {
   "cell_type": "markdown",
   "metadata": {},
   "source": [
    "## <b>Introduction to Deep Learning</b>"
   ]
  },
  {
   "cell_type": "markdown",
   "metadata": {},
   "source": [
    "### 1.1) Historical Prespective"
   ]
  },
  {
   "cell_type": "markdown",
   "metadata": {},
   "source": [
    "<h4>\n",
    "    One would assume that artificial intelligence is not such an old invention but the truth is that the term of artificial intelligence was coined in 1956 at the Dartmouth Conference by John McCarthy, Marvin Minsky, Nathaniel Rochester, and Claude Shannon. These pioneers are often considered the founders of AI as a formal discipline.\n",
    "    <br><br>\n",
    "    However the overall concept of artificial intelligence has a long history and goes way back to the ancient times when philosophers and mathematicians contemplated the possibility of creating machines that could simulate human intelligence.\n",
    "    <br><hr>\n",
    "    Artificial intelligence is not one field on its own. In fact it breaks down to some sub-fields. One of them is what we now call machine learning. machine learning is a subset of artificial intelligence that involves the development of algorithms and models that enable computers to learn from data and make predictions or decisions without being explicitly programmed. The focus is on creating systems that can improve their performance on a specific task over time as they are exposed to more data. The term \"machine learning\" was coined by Arthur Samuel in 1959. Samuel worked on developing programs that could play checkers and improve their performance through experience.\n",
    "    <br><br>\n",
    "    All of that leads us to our main point, deep learning. Like previously deep learning is now a sub-field of machine learning. Unlike machine learning though, deep learning involves the use of artificial neural networks to model and solve complex tasks. deep learning algorithms, also known as neural networks, consist of multiple layers (deep architectures) that allow the system to automatically learn hierarchical representations of data. In summary, machine learning is a broader concept that encompasses various techniques for learning from data, while deep learning specifically refers to the use of neural networks with multiple layers.\n",
    "    <br><br>\n",
    "    The concept of artificial neural networks, even though it dates back to 1940s and 1950s, fell out of favor in the 1960s and 1970s due to limitations in computing power and data. In the 1980s and 1990s however, there was a resurgence of interest in neural networks, leading to the development of the backpropagation algorithm (for which we will talk about in depth later on), a key training method for neural networks. Eventually, the term \"deep learning\" gained prominence in the 2000s and saw a significant boom in the 2010s, driven by advancements in hardware (GPUs), large datasets, and novel neural network architectures.\n",
    "</h4>"
   ]
  },
  {
   "cell_type": "markdown",
   "metadata": {},
   "source": []
  }
 ],
 "metadata": {
  "language_info": {
   "name": "python"
  }
 },
 "nbformat": 4,
 "nbformat_minor": 2
}
